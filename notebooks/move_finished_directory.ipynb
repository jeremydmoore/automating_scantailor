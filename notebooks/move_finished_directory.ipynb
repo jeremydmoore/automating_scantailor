{
 "cells": [
  {
   "cell_type": "code",
   "execution_count": 1,
   "metadata": {},
   "outputs": [
    {
     "name": "stdout",
     "output_type": "stream",
     "text": [
      "Attributes of \"Project\" class . . . \n",
      "------------------------------------\n",
      "project: test\n",
      "identifier: 0012\n",
      "\n",
      "Attributes of \"ScanTailor\" class . . . \n",
      "------------------------------------\n",
      "project: agrutesc\n",
      "identifier: 0012_004268\n",
      "root_dir_path.is_dir(): /Users/dlisla/shared_with_docker\n",
      "project_dir_path.is_dir(): /Users/dlisla/shared_with_docker/agrutesc\n",
      "step0_dir_path.is_dir(): /Users/dlisla/shared_with_docker/agrutesc/0.ScanTailorFiles\n",
      "step1_dir_path.is_dir(): /Users/dlisla/shared_with_docker/agrutesc/1.toScanTailor\n",
      "step2_dir_path.is_dir(): /Users/dlisla/shared_with_docker/agrutesc/2.ScanTailored-holding\n",
      "step3_dir_path.is_dir(): /Users/dlisla/shared_with_docker/agrutesc/3.toQC\n",
      "\n"
     ]
    }
   ],
   "source": [
    "%run project.ipynb  # this loads the Project and ScanTailor classes\n",
    "# right now I'm loading the local project in the project.ipynb, but\n",
    "# I shouldn't do that there . . . I should do that here or by \n",
    "# parameterizing the notebooks with papermill!"
   ]
  },
  {
   "cell_type": "code",
   "execution_count": 2,
   "metadata": {},
   "outputs": [],
   "source": [
    "from os.path import getmtime\n",
    "from PIL import Image"
   ]
  },
  {
   "cell_type": "code",
   "execution_count": 3,
   "metadata": {},
   "outputs": [],
   "source": [
    "# ============ functions ============ #\n",
    "def copy_scantailor_images(from_dir_path, to_dir_path, decompress=True):\n",
    "    \n",
    "    # make sure we have an \"out\" directory\n",
    "    scantailor_out_dir_path = from_dir_path.joinpath('out')\n",
    "    if not scantailor_out_dir_path.is_dir():\n",
    "        print(f'{scantailor_out_dir_path} does not exist')\n",
    "        raise FileNotFoundError(f'{scantailor_out_dir_path} does not exist')\n",
    "        \n",
    "    # get list of images in \"out\" directory and copy to new_dir_path\n",
    "    tif_path_list = list(scantailor_out_dir_path.glob('*.tif'))\n",
    "    number_of_tifs = len(tif_path_list)\n",
    "    if number_of_tifs == 0:\n",
    "        print(f'{number_of_tifs} images in {scantailor_out_dir_path}')\n",
    "        raise ValueError(f'{number_of_tifs} images in {scantailor_out_dir_path}')\n",
    "        \n",
    "    # create new directory in to_dir_path\n",
    "    new_dir_path = to_dir_path.joinpath(from_dir_path.name)\n",
    "    new_dir_path.mkdir(exist_ok=True)\n",
    "    \n",
    "    for tif_path in tif_path_list:\n",
    "        new_tif_path = new_dir_path.joinpath(tif_path.name)\n",
    "        if not new_tif_path.is_file():  # because we don't need to copy it if we already have!\n",
    "            if decompress:  # then we check for compression\n",
    "                image = Image.open(tif_path)\n",
    "                decompress_continuous_tone(image, new_tif_path)\n",
    "            else:\n",
    "                copy2(tif_path, new_tif_path)\n",
    "\n",
    "                \n",
    "def move_scantailored(from_dir_path, holding_dir_path, qc_dir_path, decompress=True, batch=False):\n",
    "    \n",
    "    # if batch then we'll move all directories, otherwise, just move the 1st\n",
    "    dir_path_list = sorted([x for x in from_dir_path.iterdir() if x.is_dir()])\n",
    "    if not batch:  # let's just process the first in the list\n",
    "        dir_path_list = [dir_path_list[0]]\n",
    "    num_of_dirs = len(dir_path_list)\n",
    "    if not num_of_dirs == 1:\n",
    "        dirs = 'dirs'\n",
    "    else:\n",
    "        dirs = 'dir'\n",
    "    print(f'Moving {num_of_dirs} {dirs} from {from_dir_path.name} to {holding_dir_path} . . .\\n{\"-\" * 36}')\n",
    "    for index, dir_path in enumerate(dir_path_list):\n",
    "        new_dir_path = holding_dir_path.joinpath(dir_path.name)\n",
    "        dir_path.rename(new_dir_path)\n",
    "    print(f'. . . {index + 1} {dirs} moved. Last dir_path in list: {dir_path_list[-1]}\\n')\n",
    "    copy_holding_to_qc(holding_dir_path, qc_dir_path)\n",
    "                \n",
    "\n",
    "def copy_holding_to_qc(holding_dir_path, qc_dir_path, decompress=True, batch=True):\n",
    "    \n",
    "    # if batch then we'll move all directories, otherwise, just move the 1st\n",
    "    dir_path_list = sorted([x for x in holding_dir_path.iterdir() if x.is_dir()])\n",
    "    if not batch:  # let's just process the first in the list\n",
    "        dir_path_list = [dir_path_list[0]]\n",
    "    num_of_dirs = len(dir_path_list)\n",
    "    if not num_of_dirs == 1:\n",
    "        dirs = 'dirs'\n",
    "    else:\n",
    "        dirs = 'dir'\n",
    "    print(f'Copying/verifying {num_of_dirs} {dirs} from {holding_dir_path.name} to {qc_dir_path.name} . . .\\n{\"-\" * 36}')\n",
    "    for index, dir_path in enumerate(dir_path_list):\n",
    "        copy_scantailor_images(dir_path, qc_dir_path, decompress=decompress)\n",
    "    print(f'. . . {index + 1} {dirs} copied/verified. Last dir modified: {max(dir_path_list, key=getmtime)}')"
   ]
  },
  {
   "cell_type": "code",
   "execution_count": 4,
   "metadata": {},
   "outputs": [],
   "source": [
    "st = scantailor"
   ]
  },
  {
   "cell_type": "code",
   "execution_count": 5,
   "metadata": {},
   "outputs": [
    {
     "name": "stdout",
     "output_type": "stream",
     "text": [
      "Moving 1 dir from 1.toScanTailor to /Users/dlisla/shared_with_docker/agrutesc/2.ScanTailored-holding . . .\n",
      "------------------------------------\n",
      ". . . 1 dir moved. Last dir_path in list: /Users/dlisla/shared_with_docker/agrutesc/1.toScanTailor/0012_004268_000083\n",
      "\n",
      "Copying/verifying 90 dirs from 2.ScanTailored-holding to 3.toQC . . .\n",
      "------------------------------------\n",
      ". . . 90 dirs copied/verified. Last dir modified: /Users/dlisla/shared_with_docker/agrutesc/2.ScanTailored-holding/0012_004268_000083\n"
     ]
    }
   ],
   "source": [
    "move_scantailored(st.step1_dir_path, st.step2_dir_path, st.step3_dir_path)"
   ]
  },
  {
   "cell_type": "code",
   "execution_count": null,
   "metadata": {},
   "outputs": [],
   "source": []
  }
 ],
 "metadata": {
  "kernelspec": {
   "display_name": "Python 3",
   "language": "python",
   "name": "python3"
  },
  "language_info": {
   "codemirror_mode": {
    "name": "ipython",
    "version": 3
   },
   "file_extension": ".py",
   "mimetype": "text/x-python",
   "name": "python",
   "nbconvert_exporter": "python",
   "pygments_lexer": "ipython3",
   "version": "3.7.7"
  }
 },
 "nbformat": 4,
 "nbformat_minor": 4
}
