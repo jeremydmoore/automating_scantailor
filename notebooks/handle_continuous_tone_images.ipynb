{
 "cells": [
  {
   "cell_type": "code",
   "execution_count": 3,
   "metadata": {},
   "outputs": [],
   "source": [
    "# imports\n",
    "%matplotlib inline\n",
    "from pathlib import Path\n",
    "from PIL import Image, TiffTags\n",
    "import matplotlib.pyplot as plt"
   ]
  },
  {
   "cell_type": "code",
   "execution_count": 4,
   "metadata": {},
   "outputs": [
    {
     "name": "stdout",
     "output_type": "stream",
     "text": [
      "number_of_tifs = 3244\n"
     ]
    }
   ],
   "source": [
    "root_dir_path = Path('/Users/dlisla/shared_with_docker/')\n",
    "collection_dir_path = root_dir_path.joinpath('agrtfhs')\n",
    "\n",
    "to_process_dir_path = collection_dir_path.joinpath('3.toQC')\n",
    "\n",
    "tif_paths_list = sorted(to_process_dir_path.glob('**/*.tif'))\n",
    "number_of_tifs = len(tif_paths_list)\n",
    "print(f'number_of_tifs = {number_of_tifs}')"
   ]
  },
  {
   "cell_type": "code",
   "execution_count": 28,
   "metadata": {},
   "outputs": [
    {
     "name": "stdout",
     "output_type": "stream",
     "text": [
      "256\n",
      "TagInfo(value=256, name='ImageWidth', type=4, length=1, enum={})\n",
      "257\n",
      "TagInfo(value=257, name='ImageLength', type=4, length=1, enum={})\n",
      "258\n",
      "TagInfo(value=258, name='BitsPerSample', type=3, length=0, enum={})\n",
      "259\n",
      "TagInfo(value=259, name='Compression', type=3, length=1, enum={'Uncompressed': 1, 'CCITT 1d': 2, 'Group 3 Fax': 3, 'Group 4 Fax': 4, 'LZW': 5, 'JPEG': 6, 'PackBits': 32773})\n",
      "262\n",
      "TagInfo(value=262, name='PhotometricInterpretation', type=3, length=1, enum={'WhiteIsZero': 0, 'BlackIsZero': 1, 'RGB': 2, 'RGB Palette': 3, 'Transparency Mask': 4, 'CMYK': 5, 'YCbCr': 6, 'CieLAB': 8, 'CFA': 32803, 'LinearRaw': 32892})\n",
      "273\n",
      "TagInfo(value=273, name='StripOffsets', type=4, length=0, enum={})\n",
      "339\n",
      "TagInfo(value=339, name='SampleFormat', type=3, length=0, enum={})\n",
      "277\n",
      "TagInfo(value=277, name='SamplesPerPixel', type=3, length=1, enum={})\n",
      "279\n",
      "TagInfo(value=279, name='StripByteCounts', type=4, length=0, enum={})\n",
      "282\n",
      "TagInfo(value=282, name='XResolution', type=5, length=1, enum={})\n",
      "283\n",
      "TagInfo(value=283, name='YResolution', type=5, length=1, enum={})\n",
      "284\n",
      "TagInfo(value=284, name='PlanarConfiguration', type=3, length=1, enum={'Contiguous': 1, 'Separate': 2})\n",
      "296\n",
      "TagInfo(value=296, name='ResolutionUnit', type=3, length=1, enum={'none': 1, 'inch': 2, 'cm': 3})\n"
     ]
    }
   ],
   "source": [
    "# which TIFF fields do we need to check for bit depth?\n",
    "image = Image.open(tif_paths_list[0])\n",
    "for tag in image.tag_v2:\n",
    "    print(tag)\n",
    "    print(TiffTags.lookup(tag))"
   ]
  },
  {
   "cell_type": "code",
   "execution_count": 29,
   "metadata": {},
   "outputs": [
    {
     "name": "stdout",
     "output_type": "stream",
     "text": [
      "BitsPerSample : (8, 8, 8)\n",
      "Compression : 1\n",
      "SamplesPerPixel : 3\n"
     ]
    }
   ],
   "source": [
    "# let's get data for our first image\n",
    "tag_dict = {'BitsPerSample': 258,\n",
    "            'Compression': 259,\n",
    "            'SamplesPerPixel': 277,\n",
    "           }\n",
    "for key, value in tag_dict.items():\n",
    "    print(f'{key} : {image.tag_v2[value]}')"
   ]
  },
  {
   "cell_type": "code",
   "execution_count": 44,
   "metadata": {},
   "outputs": [
    {
     "name": "stdout",
     "output_type": "stream",
     "text": [
      "Number of colors in the image: Over 256 colors\n"
     ]
    }
   ],
   "source": [
    "# can use Image.getcolors() to identify if the image contains, color, grayscale, or only bitonal data\n",
    "# if only 1-2 colors returned then bitonal (all black or all white = bitonal, too!)\n",
    "# if 3-256 colors returned then grayscale\n",
    "# if 257+ colors, it returns None and it has color data\n",
    "color_list = image.getcolors()\n",
    "if color_list is None:\n",
    "    number_of_colors = 'Over 256 colors'\n",
    "else:\n",
    "    number_of_colors = len(color_list)\n",
    "print(f'Number of colors in the image: {number_of_colors}')"
   ]
  },
  {
   "cell_type": "code",
   "execution_count": 46,
   "metadata": {},
   "outputs": [],
   "source": [
    "bit_depth_lookup_dict = {24: 'rgb',\n",
    "                         8: 'gray',\n",
    "                         1: 'bitonal',\n",
    "                        }\n",
    "def get_bit_depth_from_colors(image):\n",
    "    color_list = image.getcolors()\n",
    "    if color_list is None:  # image is over 256 colors\n",
    "        bit_depth = 24\n",
    "    else:\n",
    "        number_of_colors = len(color_list)\n",
    "        if number_of_colors > 2:\n",
    "            bit_depth = 8\n",
    "        elif number_of_colors > 0:\n",
    "            bit_depth = 1\n",
    "        else:\n",
    "            bit_depth = None\n",
    "    return bit_depth"
   ]
  },
  {
   "cell_type": "code",
   "execution_count": 47,
   "metadata": {},
   "outputs": [
    {
     "name": "stdout",
     "output_type": "stream",
     "text": [
      "000001.tif --> rgb\n",
      "000002.tif --> rgb\n",
      "000003.tif --> gray\n",
      "000004.tif --> bitonal\n",
      "000005.tif --> gray\n",
      "000006.tif --> bitonal\n",
      "000007.tif --> gray\n",
      "000008.tif --> bitonal\n",
      "000009.tif --> bitonal\n",
      "000010.tif --> bitonal\n",
      "000011.tif --> rgb\n",
      "000012.tif --> bitonal\n",
      "000001.tif --> rgb\n",
      "000002.tif --> rgb\n",
      "000003.tif --> gray\n",
      "000004.tif --> bitonal\n",
      "000005.tif --> gray\n",
      "000006.tif --> gray\n",
      "000007.tif --> gray\n",
      "000008.tif --> gray\n",
      "000009.tif --> gray\n",
      "000010.tif --> bitonal\n",
      "000011.tif --> bitonal\n",
      "000012.tif --> rgb\n",
      "000001.tif --> rgb\n"
     ]
    }
   ],
   "source": [
    "# NOTE: writing this as a for-loop, but need to come back and\n",
    "# refactor into OOP after getting logic and processes down\n",
    "for image_path in tif_paths_list[:25]:\n",
    "    image = Image.open(image_path)\n",
    "    bit_depth = get_bit_depth_from_colors(image)\n",
    "\n",
    "    print(f'{image_path.name} --> {bit_depth_lookup_dict[bit_depth]}')"
   ]
  },
  {
   "cell_type": "code",
   "execution_count": null,
   "metadata": {},
   "outputs": [],
   "source": [
    "# what do we need to check and in what order?\n",
    "# if continuous tone we should verify that it's not bitonal by getting image as \n",
    "check_if_color_path_list = []\n",
    "grayscale_path_list = []\n",
    "if image.tag_v2[258] == '(8, 8, 8)': # image is color\n",
    "    check_if_color_path_list.append(tif_path)\n",
    "elif image.tag_v2[258] == 8:\n",
    "    check_if_grayscale"
   ]
  },
  {
   "cell_type": "code",
   "execution_count": null,
   "metadata": {},
   "outputs": [],
   "source": [
    "# open in Preview\n",
    "image.show()"
   ]
  },
  {
   "cell_type": "code",
   "execution_count": null,
   "metadata": {},
   "outputs": [],
   "source": []
  }
 ],
 "metadata": {
  "kernelspec": {
   "display_name": "Python 3",
   "language": "python",
   "name": "python3"
  },
  "language_info": {
   "codemirror_mode": {
    "name": "ipython",
    "version": 3
   },
   "file_extension": ".py",
   "mimetype": "text/x-python",
   "name": "python",
   "nbconvert_exporter": "python",
   "pygments_lexer": "ipython3",
   "version": "3.7.7"
  }
 },
 "nbformat": 4,
 "nbformat_minor": 4
}
