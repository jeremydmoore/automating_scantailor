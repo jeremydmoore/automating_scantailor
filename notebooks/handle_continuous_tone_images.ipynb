{
 "cells": [
  {
   "cell_type": "code",
   "execution_count": 45,
   "metadata": {},
   "outputs": [],
   "source": [
    "# imports\n",
    "%matplotlib inline\n",
    "from pathlib import Path\n",
    "import tempfile\n",
    "\n",
    "from PIL import Image, ImageCms, TiffTags\n",
    "import matplotlib.pyplot as plt\n",
    "\n",
    "from ipywidgets import IntProgress, Label, VBox\n",
    "from IPython.display import display"
   ]
  },
  {
   "cell_type": "code",
   "execution_count": 46,
   "metadata": {},
   "outputs": [
    {
     "name": "stdout",
     "output_type": "stream",
     "text": [
      "number_of_tifs = 3244\n"
     ]
    }
   ],
   "source": [
    "# initial variables\n",
    "root_dir_path = Path('/Users/dlisla/shared_with_docker/')\n",
    "collection_dir_path = root_dir_path.joinpath('agrtfhs')\n",
    "\n",
    "to_process_dir_path = collection_dir_path.joinpath('3.toQC')\n",
    "\n",
    "tif_paths_list = sorted(to_process_dir_path.glob('**/*.tif'))\n",
    "number_of_tifs = len(tif_paths_list)\n",
    "print(f'number_of_tifs = {number_of_tifs}')"
   ]
  },
  {
   "cell_type": "code",
   "execution_count": 47,
   "metadata": {},
   "outputs": [
    {
     "name": "stdout",
     "output_type": "stream",
     "text": [
      "256\n",
      "TagInfo(value=256, name='ImageWidth', type=4, length=1, enum={})\n",
      "257\n",
      "TagInfo(value=257, name='ImageLength', type=4, length=1, enum={})\n",
      "258\n",
      "TagInfo(value=258, name='BitsPerSample', type=3, length=0, enum={})\n",
      "259\n",
      "TagInfo(value=259, name='Compression', type=3, length=1, enum={'Uncompressed': 1, 'CCITT 1d': 2, 'Group 3 Fax': 3, 'Group 4 Fax': 4, 'LZW': 5, 'JPEG': 6, 'PackBits': 32773})\n",
      "262\n",
      "TagInfo(value=262, name='PhotometricInterpretation', type=3, length=1, enum={'WhiteIsZero': 0, 'BlackIsZero': 1, 'RGB': 2, 'RGB Palette': 3, 'Transparency Mask': 4, 'CMYK': 5, 'YCbCr': 6, 'CieLAB': 8, 'CFA': 32803, 'LinearRaw': 32892})\n",
      "273\n",
      "TagInfo(value=273, name='StripOffsets', type=4, length=0, enum={})\n",
      "339\n",
      "TagInfo(value=339, name='SampleFormat', type=3, length=0, enum={})\n",
      "277\n",
      "TagInfo(value=277, name='SamplesPerPixel', type=3, length=1, enum={})\n",
      "279\n",
      "TagInfo(value=279, name='StripByteCounts', type=4, length=0, enum={})\n",
      "282\n",
      "TagInfo(value=282, name='XResolution', type=5, length=1, enum={})\n",
      "283\n",
      "TagInfo(value=283, name='YResolution', type=5, length=1, enum={})\n",
      "284\n",
      "TagInfo(value=284, name='PlanarConfiguration', type=3, length=1, enum={'Contiguous': 1, 'Separate': 2})\n",
      "296\n",
      "TagInfo(value=296, name='ResolutionUnit', type=3, length=1, enum={'none': 1, 'inch': 2, 'cm': 3})\n"
     ]
    }
   ],
   "source": [
    "# which TIFF fields do we need to check for bit depth?\n",
    "image = Image.open(tif_paths_list[0])\n",
    "for tag in image.tag_v2:\n",
    "    print(tag)\n",
    "    print(TiffTags.lookup(tag))"
   ]
  },
  {
   "cell_type": "code",
   "execution_count": 48,
   "metadata": {},
   "outputs": [
    {
     "name": "stdout",
     "output_type": "stream",
     "text": [
      "BitsPerSample : (8, 8, 8)\n",
      "Compression : 1\n",
      "SamplesPerPixel : 3\n"
     ]
    }
   ],
   "source": [
    "# let's get data for our first image\n",
    "tag_dict = {'BitsPerSample': 258,\n",
    "            'Compression': 259,\n",
    "            'SamplesPerPixel': 277,\n",
    "           }\n",
    "for key, value in tag_dict.items():\n",
    "    print(f'{key} : {image.tag_v2[value]}')"
   ]
  },
  {
   "cell_type": "code",
   "execution_count": 49,
   "metadata": {},
   "outputs": [
    {
     "name": "stdout",
     "output_type": "stream",
     "text": [
      "Number of colors in the image: Over 256 colors\n"
     ]
    }
   ],
   "source": [
    "# can use Image.getcolors() to identify if the image contains, color, grayscale, or only bitonal data\n",
    "# if only 1-2 colors returned then bitonal (all black or all white = bitonal, too!)\n",
    "# if 3-256 colors returned then grayscale\n",
    "# if 257+ colors, it returns None and it has color data\n",
    "color_list = image.getcolors()\n",
    "if color_list is None:\n",
    "    number_of_colors = 'Over 256 colors'\n",
    "else:\n",
    "    number_of_colors = len(color_list)\n",
    "print(f'Number of colors in the image: {number_of_colors}')"
   ]
  },
  {
   "cell_type": "code",
   "execution_count": 59,
   "metadata": {},
   "outputs": [],
   "source": [
    "# working functions\n",
    "bit_depth_lookup_dict = {24: 'rgb',\n",
    "                         8: 'gray',\n",
    "                         1: 'bitonal',\n",
    "                        }\n",
    "bits_per_sample_lookup_dict = {(8, 8, 8): 24,\n",
    "                               (8,): 8,\n",
    "                               (1,): 1,\n",
    "                              }\n",
    "compression_lookup_dict = {1: 'uncompressed',\n",
    "                           4: 'group4',\n",
    "                           5: 'LZW',\n",
    "                           6: 'JPEG',\n",
    "                          }\n",
    "\n",
    "def get_bit_depth_from_colors(image):\n",
    "    color_list = image.getcolors()\n",
    "    if color_list is None:  # image is over 256 colors\n",
    "        bit_depth = 24\n",
    "    else:\n",
    "        number_of_colors = len(color_list)\n",
    "        if number_of_colors > 2:\n",
    "            bit_depth = 8\n",
    "        elif number_of_colors > 0:\n",
    "            bit_depth = 1\n",
    "        else:\n",
    "            bit_depth = None\n",
    "    return bit_depth\n",
    "\n",
    "def get_bit_depth_from_metadata(image):\n",
    "    BitsPerSample = image.tag_v2[258]  ## tag 258 is the BitsPerSample tag\n",
    "    bit_depth = bits_per_sample_lookup_dict[BitsPerSample]\n",
    "    if isinstance(bit_depth, int):\n",
    "        return bit_depth\n",
    "    else:\n",
    "        raise TypeError(f'\"{bit_depth}\" is not an int')\n",
    "\n",
    "def get_compression(image):\n",
    "    compression = image.tag_v2[259]\n",
    "    compression = compression_lookup_dict[compression]\n",
    "    return compression"
   ]
  },
  {
   "cell_type": "code",
   "execution_count": 58,
   "metadata": {
    "scrolled": true
   },
   "outputs": [
    {
     "name": "stdout",
     "output_type": "stream",
     "text": [
      "0012_004267_000041/000020.tif\n"
     ]
    }
   ],
   "source": [
    "print(f'{image_path.parts[-2]}/{image_path.name}')"
   ]
  },
  {
   "cell_type": "code",
   "execution_count": null,
   "metadata": {
    "scrolled": true
   },
   "outputs": [
    {
     "data": {
      "application/vnd.jupyter.widget-view+json": {
       "model_id": "192d5773da744feebc6a36009a6e7c37",
       "version_major": 2,
       "version_minor": 0
      },
      "text/plain": [
       "VBox(children=(Label(value='Process *.tif'), IntProgress(value=0, max=3244)))"
      ]
     },
     "metadata": {},
     "output_type": "display_data"
    },
    {
     "name": "stdout",
     "output_type": "stream",
     "text": [
      "000006.tif: colors and metadata do not match\n",
      "000011.tif: colors and metadata do not match\n",
      "000010.tif: colors and metadata do not match\n",
      "000006.tif: colors and metadata do not match\n",
      "000012.tif: colors and metadata do not match\n",
      "000007.tif: colors and metadata do not match\n",
      "000020.tif: colors and metadata do not match\n",
      "000021.tif: colors and metadata do not match\n",
      "000021.tif: colors and metadata do not match\n",
      "000004.tif: colors and metadata do not match\n",
      "000006.tif: colors and metadata do not match\n",
      "000008.tif: colors and metadata do not match\n",
      "000009.tif: colors and metadata do not match\n",
      "000010.tif: colors and metadata do not match\n",
      "000011.tif: colors and metadata do not match\n",
      "000012.tif: colors and metadata do not match\n",
      "000013.tif: colors and metadata do not match\n",
      "000014.tif: colors and metadata do not match\n",
      "000016.tif: colors and metadata do not match\n",
      "000017.tif: colors and metadata do not match\n",
      "000019.tif: colors and metadata do not match\n",
      "000020.tif: colors and metadata do not match\n",
      "000021.tif: colors and metadata do not match\n",
      "000022.tif: colors and metadata do not match\n",
      "000023.tif: colors and metadata do not match\n",
      "000024.tif: colors and metadata do not match\n",
      "000025.tif: colors and metadata do not match\n",
      "000026.tif: colors and metadata do not match\n",
      "000027.tif: colors and metadata do not match\n",
      "000028.tif: colors and metadata do not match\n",
      "000031.tif: colors and metadata do not match\n",
      "000032.tif: colors and metadata do not match\n",
      "000018.tif: colors and metadata do not match\n",
      "000010.tif: colors and metadata do not match\n",
      "000005.tif: colors and metadata do not match\n",
      "000018.tif: colors and metadata do not match\n",
      "000019.tif: colors and metadata do not match\n",
      "000020.tif: colors and metadata do not match\n",
      "000021.tif: colors and metadata do not match\n",
      "000022.tif: colors and metadata do not match\n",
      "000023.tif: colors and metadata do not match\n",
      "000024.tif: colors and metadata do not match\n",
      "000025.tif: colors and metadata do not match\n",
      "000026.tif: colors and metadata do not match\n",
      "000027.tif: colors and metadata do not match\n",
      "000028.tif: colors and metadata do not match\n",
      "000029.tif: colors and metadata do not match\n",
      "000030.tif: colors and metadata do not match\n",
      "000031.tif: colors and metadata do not match\n",
      "000032.tif: colors and metadata do not match\n",
      "000033.tif: colors and metadata do not match\n",
      "000034.tif: colors and metadata do not match\n",
      "000035.tif: colors and metadata do not match\n",
      "000030.tif: colors and metadata do not match\n",
      "000007.tif: colors and metadata do not match\n",
      "000009.tif: colors and metadata do not match\n",
      "000010.tif: colors and metadata do not match\n",
      "000011.tif: colors and metadata do not match\n",
      "000013.tif: colors and metadata do not match\n",
      "000014.tif: colors and metadata do not match\n",
      "000019.tif: colors and metadata do not match\n",
      "000020.tif: colors and metadata do not match\n",
      "000021.tif: colors and metadata do not match\n",
      "000022.tif: colors and metadata do not match\n",
      "000023.tif: colors and metadata do not match\n",
      "000024.tif: colors and metadata do not match\n",
      "000025.tif: colors and metadata do not match\n",
      "000026.tif: colors and metadata do not match\n",
      "000027.tif: colors and metadata do not match\n",
      "000029.tif: colors and metadata do not match\n",
      "000030.tif: colors and metadata do not match\n",
      "000031.tif: colors and metadata do not match\n",
      "000032.tif: colors and metadata do not match\n",
      "000041.tif: colors and metadata do not match\n"
     ]
    }
   ],
   "source": [
    "# progress bar\n",
    "progress_label = Label('Process *.tif')\n",
    "progress_bar = IntProgress(min=0, max=number_of_tifs)\n",
    "progress_widget = VBox([progress_label, progress_bar])\n",
    "display(progress_widget)\n",
    "\n",
    "# NOTE: writing this as a for-loop, but need to come back and\n",
    "# refactor into OOP after getting logic and processes down\n",
    "rgb_paths_list = []\n",
    "gray_paths_list = []\n",
    "bitonal_paths_list = []\n",
    "bitdepth_doesnt_match_paths_list = []\n",
    "\n",
    "for index, image_path in enumerate(tif_paths_list):\n",
    "    label = f'Processing {index} of {number_of_tifs}\\n {image_path.parts[-2]}/{image_path.name}'\n",
    "    progress_label.value = label\n",
    "    image = Image.open(image_path)\n",
    "    bit_depth_from_colors = get_bit_depth_from_colors(image)\n",
    "    bit_depth_from_metadata = get_bit_depth_from_metadata(image)\n",
    "    if bit_depth_from_colors != bit_depth_from_metadata:\n",
    "        print(f'{image_path.name}: colors and metadata do not match')\n",
    "        bitdepth_doesnt_match_paths_list.append(image_path)\n",
    "    else:\n",
    "        bit_depth = bit_depth_from_colors\n",
    "    if bit_depth == 24:\n",
    "        rgb_paths_list.append(image_path)\n",
    "    elif bit_depth == 8:\n",
    "        gray_paths_list.append(image_path)\n",
    "    elif bit_depth == 1:\n",
    "        bitonal_paths_list.append(image_path)\n",
    "    else:\n",
    "        raise ValueError(f'{bit_depth} is not 1, 8, or 24')\n",
    "    \n",
    "    if bit_depth > 1:\n",
    "        compression = get_compression(image)\n",
    "        if compression == 'LZW':  # re-save image uncompressed\n",
    "            image.save(image_path, tiffinfo=image.tag, compression=None, dpi=image.info['dpi'])\n",
    "    \n",
    "    # increment progress_bar\n",
    "    progress_bar.value = index + 1\n",
    "else:  # no break\n",
    "    label = f'Processing complete'\n",
    "    progress_label.value = label\n",
    "\n",
    "    #print(f'{image_path.name} --> {bit_depth_lookup_dict[bit_depth_from_colors]}')"
   ]
  },
  {
   "cell_type": "code",
   "execution_count": null,
   "metadata": {},
   "outputs": [],
   "source": [
    "# what do we need to check and in what order?\n",
    "# if continuous tone we should verify that it's not bitonal by getting image as \n",
    "check_if_color_path_list = []\n",
    "grayscale_path_list = []\n",
    "if image.tag_v2[258] == '(8, 8, 8)': # image is color\n",
    "    check_if_color_path_list.append(tif_path)\n",
    "elif image.tag_v2[258] == 8:\n",
    "    check_if_grayscale"
   ]
  },
  {
   "cell_type": "code",
   "execution_count": null,
   "metadata": {},
   "outputs": [],
   "source": [
    "# open in Preview\n",
    "image.show()"
   ]
  }
 ],
 "metadata": {
  "kernelspec": {
   "display_name": "Python 3",
   "language": "python",
   "name": "python3"
  },
  "language_info": {
   "codemirror_mode": {
    "name": "ipython",
    "version": 3
   },
   "file_extension": ".py",
   "mimetype": "text/x-python",
   "name": "python",
   "nbconvert_exporter": "python",
   "pygments_lexer": "ipython3",
   "version": "3.7.7"
  }
 },
 "nbformat": 4,
 "nbformat_minor": 4
}
