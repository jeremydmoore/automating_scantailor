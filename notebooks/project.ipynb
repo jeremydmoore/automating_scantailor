{
 "cells": [
  {
   "cell_type": "code",
   "execution_count": null,
   "metadata": {},
   "outputs": [],
   "source": [
    "# !pip install -q ipympl voila \n",
    "# Enabling the `widget` backend.\n",
    "# This requires jupyter-matplotlib a.k.a. ipympl.\n",
    "# ipympl can be install via pip or conda.\n",
    "# %matplotlib widget\n",
    "\n",
    "from pathlib import Path, PurePath\n",
    "\n",
    "# import matplotlib.pyplot as plt\n",
    "# import numpy as np"
   ]
  },
  {
   "cell_type": "code",
   "execution_count": 1,
   "metadata": {},
   "outputs": [],
   "source": [
    "# update this with project identifier\n",
    "project = 'test'\n",
    "# directory identifier is different than project identifier for this project\n",
    "identifier = '0012_004268'\n",
    "# root location for project directories\n",
    "root_dir_path = Path.home().joinpath('shared_with_docker').resolve()"
   ]
  },
  {
   "cell_type": "code",
   "execution_count": null,
   "metadata": {},
   "outputs": [],
   "source": [
    "# ============ lookup dicts/lists ============ #\n",
    "# should this be a dict?\n",
    "scantailor_dir_list = ['0.ScanTailorFiles',\n",
    "                       '1.toScanTailor',\n",
    "                       '2.ScanTailored-holding',\n",
    "                       '3.toQC',\n",
    "                      ]\n",
    "\n",
    "compression_lookup_dict = {1: 'uncompressed',\n",
    "                           4: 'group4',\n",
    "                           5: 'LZW',\n",
    "                           6: 'JPEG',\n",
    "                          }\n"
   ]
  },
  {
   "cell_type": "code",
   "execution_count": null,
   "metadata": {},
   "outputs": [],
   "source": [
    "# ============ functions ============ #\n",
    "\n",
    "def get_compression(image):\n",
    "    compression = image.tag_v2[259]\n",
    "    compression = compression_lookup_dict[compression]\n",
    "    return compression\n",
    "\n",
    "def decompress_continuous_tone(image, image_path):\n",
    "    compression = get_compression(image)\n",
    "    if compression != 'group4':  # save image uncompressed\n",
    "            image.save(str(image_path), tiffinfo=image.tag, compression=None, dpi=image.info['dpi'])\n",
    "    else:\n",
    "        image.save(str(image_path), tiffinfo=image.tag, compression=compression, dpi=image.info['dpi'])\n",
    "\n",
    "def get_dir_path_list(dir_path, sort=True):\n",
    "    # return a non-recursive list of directory paths starting at dir_path\n",
    "    dir_path_list = [x for x in dir_path.iterdir() if x.is_dir()]\n",
    "    if sort:\n",
    "        dir_path_list = sorted(dir_path_list)\n",
    "    return dir_path_list\n",
    "    \n",
    "\n",
    "# hacky way of printing and testing the attributes of my classes for testing purposes    \n",
    "def test_class_attributes(class_test):\n",
    "    print(f'Attributes of \"{class_test.__class__.__name__}\" class . . . \\n{\"-\" * 36}')\n",
    "    for attribute, value in class_test.__dict__.items():\n",
    "        if isinstance(value, PurePath):\n",
    "            if not Path(value).is_dir():\n",
    "                raise ValueError(f'dir at {value} does not exist!')\n",
    "            else:\n",
    "                print(f'{attribute}.is_dir(): {value}')\n",
    "        else:\n",
    "            print(f'{attribute}: {value}')\n",
    "    print('')"
   ]
  },
  {
   "cell_type": "code",
   "execution_count": null,
   "metadata": {},
   "outputs": [],
   "source": [
    "# ============classes ============ #\n",
    "class Project():\n",
    "    def __init__(self, project, identifier=None):\n",
    "        self.project = project\n",
    "        if identifier:\n",
    "            self.identifier = identifier\n",
    "        else:\n",
    "            self.identifier = self.project"
   ]
  },
  {
   "cell_type": "code",
   "execution_count": null,
   "metadata": {},
   "outputs": [],
   "source": [
    "project = Project(project, identifier='0012')\n",
    "test_class_attributes(project)"
   ]
  },
  {
   "cell_type": "code",
   "execution_count": null,
   "metadata": {},
   "outputs": [],
   "source": [
    "class ScanTailor(Project):\n",
    "    def __init__(self,\n",
    "                 project,\n",
    "                 identifier = None,\n",
    "                 root = root_dir_path,\n",
    "                ):\n",
    "        super().__init__(project, identifier=identifier)\n",
    "        self.root_dir_path = root\n",
    "        self.project_dir_path = self.root_dir_path.joinpath(project)\n",
    "        # if the look-up list, scantailor_dir_list, is switched to a dict\n",
    "        # then it wouldn't matter the order and can add 1a and error directories\n",
    "        self.step0_dir_path = self.project_dir_path.joinpath(scantailor_dir_list[0])\n",
    "        self.step1_dir_path = self.project_dir_path.joinpath(scantailor_dir_list[1])\n",
    "        self.step2_dir_path = self.project_dir_path.joinpath(scantailor_dir_list[2])\n",
    "        self.step3_dir_path = self.project_dir_path.joinpath(scantailor_dir_list[3])\n",
    "        \n",
    "        def step0_dir_path_list(self):\n",
    "            return get_dir_path_list(self.step0_dir_path)\n",
    "        \n",
    "        \n",
    "    \n",
    "        "
   ]
  },
  {
   "cell_type": "code",
   "execution_count": null,
   "metadata": {},
   "outputs": [],
   "source": [
    "scantailor = ScanTailor('agrutesc', identifier='0012_004268')\n",
    "test_class_attributes(scantailor)"
   ]
  },
  {
   "cell_type": "code",
   "execution_count": null,
   "metadata": {},
   "outputs": [],
   "source": []
  }
 ],
 "metadata": {
  "kernelspec": {
   "display_name": "Python 3",
   "language": "python",
   "name": "python3"
  },
  "language_info": {
   "codemirror_mode": {
    "name": "ipython",
    "version": 3
   },
   "file_extension": ".py",
   "mimetype": "text/x-python",
   "name": "python",
   "nbconvert_exporter": "python",
   "pygments_lexer": "ipython3",
   "version": "3.7.7"
  }
 },
 "nbformat": 4,
 "nbformat_minor": 4
}
